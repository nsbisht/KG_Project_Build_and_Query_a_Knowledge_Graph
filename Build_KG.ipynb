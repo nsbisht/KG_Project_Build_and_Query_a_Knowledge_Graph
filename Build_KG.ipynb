{
 "cells": [
  {
   "cell_type": "code",
   "execution_count": 1,
   "metadata": {},
   "outputs": [],
   "source": [
    "# NARENDRA SINGH BISHT\n",
    "# AM.EN.P2ARI20043\n",
    "# KG Final Assignment"
   ]
  },
  {
   "cell_type": "code",
   "execution_count": 2,
   "metadata": {},
   "outputs": [],
   "source": [
    "# Guidelines\n",
    "\n",
    "# 1. Crawl the web sites for a particular topic; \n",
    "# (hint: you can use a focussed crawling with the help vertical search engine. \n",
    "# For e.g., https://thenextweb.com/news/30-specialist-and-super-smart-search-engines\n",
    "# 2. Extract the text  from the web pages and form into documents.\n",
    "# 3. Build KG from documents, convert into Neo4J \n",
    "# 4. Query the KG\n",
    "\n",
    "# Submission should be in 2 files: .ipynb and its pdf "
   ]
  },
  {
   "cell_type": "code",
   "execution_count": 3,
   "metadata": {},
   "outputs": [],
   "source": [
    "# conda install spacy"
   ]
  },
  {
   "cell_type": "code",
   "execution_count": 4,
   "metadata": {},
   "outputs": [],
   "source": [
    "import spacy\n",
    "from spacy.matcher import Matcher \n",
    "\n",
    "from pathlib import Path\n",
    "\n",
    "import pandas as pd\n",
    "import re\n",
    "import requests, bs4\n",
    "import html2text\n",
    "\n",
    "from py2neo import Graph\n",
    "\n",
    "from googlesearch import search\n",
    "\n",
    "import itertools\n",
    "\n",
    "from tqdm import tqdm\n",
    "# Instantly make your loops show a smart progress meter - \n",
    "# just wrap any iterable with tqdm(iterable), and you’re done!"
   ]
  },
  {
   "cell_type": "code",
   "execution_count": 5,
   "metadata": {},
   "outputs": [],
   "source": [
    "# !python -m spacy download en_core_web_lg\n",
    "\n",
    "nlp = spacy.load('en_core_web_lg')"
   ]
  },
  {
   "cell_type": "code",
   "execution_count": 6,
   "metadata": {},
   "outputs": [],
   "source": [
    "query = 'India'\n",
    "urls = []\n",
    "for url in search(query, \n",
    "                  tld=\"co.in\", \n",
    "                  num=25, \n",
    "                  stop=25, \n",
    "                  pause=2):\n",
    "    urls.append(url)"
   ]
  },
  {
   "cell_type": "code",
   "execution_count": 7,
   "metadata": {},
   "outputs": [
    {
     "name": "stdout",
     "output_type": "stream",
     "text": [
      "Search Results:\n",
      "1 https://indianexpress.com/article/india/coronavirus-india-live-updates-covid-second-wave-vaccination-7313012/\n",
      "2 https://timesofindia.indiatimes.com/india/who-warns-variant-in-india-could-be-highly-contagious/articleshow/82594425.cms\n",
      "3 https://www.moneycontrol.com/news/india/coronavirus-india-news-live-updates-lockdown-in-maharashtra-extended-until-may-31-to-curb-the-spread-of-covid-19-in-the-state-6886201.html\n",
      "4 https://en.wikipedia.org/wiki/India\n",
      "5 https://en.wikipedia.org/wiki/Politics_of_India\n",
      "6 https://en.wikipedia.org/wiki/Outline_of_India\n",
      "7 https://en.wikipedia.org/wiki/Names_for_India\n",
      "8 https://en.wikipedia.org/wiki/South_India\n",
      "9 https://www.india.gov.in/\n",
      "10 https://www.incredibleindia.org/\n",
      "11 https://www.britannica.com/place/India\n",
      "12 https://www.india.com/\n",
      "13 https://timesofindia.indiatimes.com/\n",
      "14 https://mohfw.gov.in/\n",
      "15 https://www.theguardian.com/world/india\n",
      "16 http://www.airindia.in/\n",
      "17 https://wikitravel.org/en/India\n",
      "18 https://www.bbc.com/news/world/asia/india\n",
      "19 https://www.usnews.com/news/best-countries/india\n",
      "20 https://tourism.gov.in/\n",
      "21 https://www.aljazeera.com/where/india/\n",
      "22 https://sbi.co.in/\n",
      "23 https://www.lonelyplanet.com/india\n",
      "24 https://www.rbi.org.in/\n",
      "25 https://www.digitalindia.gov.in/\n"
     ]
    }
   ],
   "source": [
    "print('Search Results:')\n",
    "for idx, url in enumerate(urls):\n",
    "    print(idx + 1, url)"
   ]
  },
  {
   "cell_type": "code",
   "execution_count": 8,
   "metadata": {},
   "outputs": [],
   "source": [
    "path = Path(\"Converted_Pages\")\n",
    "path.mkdir(exist_ok=True)"
   ]
  },
  {
   "cell_type": "markdown",
   "metadata": {},
   "source": [
    "**Extract the text from the web pages and store in text documents**"
   ]
  },
  {
   "cell_type": "code",
   "execution_count": 9,
   "metadata": {},
   "outputs": [
    {
     "name": "stderr",
     "output_type": "stream",
     "text": [
      "  0%|                                                                                                            | 0/25 [00:00<?, ?it/s]"
     ]
    },
    {
     "name": "stdout",
     "output_type": "stream",
     "text": [
      "\n",
      "Root URL:  https://indianexpress.com/article/india/coronavirus-india-live-updates-covid-second-wave-vaccination-7313012/\n",
      "Related URLs crawled:\n",
      "1 https://tamil.indianexpress.com/\n",
      "2 https://indianexpress.com/\n",
      "3 https://indianexpress.com/article/india/coronavirus-india-live-updates-covid-second-wave-vaccination-7313012/\n",
      "4 https://malayalam.indianexpress.com/\n",
      "5 https://bengali.indianexpress.com/\n"
     ]
    },
    {
     "name": "stderr",
     "output_type": "stream",
     "text": [
      "  4%|████                                                                                                | 1/25 [00:01<00:35,  1.48s/it]"
     ]
    },
    {
     "name": "stdout",
     "output_type": "stream",
     "text": [
      "6 https://www.jansatta.com/\n",
      "\n",
      "Root URL:  https://timesofindia.indiatimes.com/india/who-warns-variant-in-india-could-be-highly-contagious/articleshow/82594425.cms\n",
      "Related URLs crawled:\n",
      "1 https://timesofindia.indiatimes.com/us\n",
      "2 https://timesofindia.indiatimes.com/india\n",
      "3 https://timesofindia.indiatimes.com/india/who-warns-variant-in-india-could-be-highly-contagious/articleshow/82594425.cms\n",
      "4 https://timesofindia.indiatimes.com/\n"
     ]
    },
    {
     "name": "stderr",
     "output_type": "stream",
     "text": [
      "  8%|████████                                                                                            | 2/25 [00:02<00:31,  1.36s/it]"
     ]
    },
    {
     "name": "stdout",
     "output_type": "stream",
     "text": [
      "\n",
      "Root URL:  https://www.moneycontrol.com/news/india/coronavirus-india-news-live-updates-lockdown-in-maharashtra-extended-until-may-31-to-curb-the-spread-of-covid-19-in-the-state-6886201.html\n",
      "Related URLs crawled:\n",
      "1 https://www.moneycontrol.com/news/india/coronavirus-india-news-live-updates-lockdown-in-maharashtra-extended-until-may-31-to-curb-the-spread-of-covid-19-in-the-state-6886201.html#HamburgerMenu_0\n",
      "2 https://www.moneycontrol.com/\n",
      "3 https://www.moneycontrol.com/news/india/coronavirus-india-news-live-updates-lockdown-in-maharashtra-extended-until-may-31-to-curb-the-spread-of-covid-19-in-the-state-6886201.html\n",
      "4 https://www.moneycontrol.com/news/india/coronavirus-india-news-live-updates-lockdown-in-maharashtra-extended-until-may-31-to-curb-the-spread-of-covid-19-in-the-state-6886201.html#HamburgerMenu_17\n",
      "5 https://www.moneycontrol.com/news/india/coronavirus-india-news-live-updates-lockdown-in-maharashtra-extended-until-may-31-to-curb-the-spread-of-covid-19-in-the-state-6886201.html#HamburgerMenu_3\n",
      "6 https://www.moneycontrol.com/india/bestportfoliomanager/investment-tool\n"
     ]
    },
    {
     "name": "stderr",
     "output_type": "stream",
     "text": [
      " 12%|████████████                                                                                        | 3/25 [00:10<01:11,  3.23s/it]"
     ]
    },
    {
     "name": "stdout",
     "output_type": "stream",
     "text": [
      "\n",
      "Root URL:  https://en.wikipedia.org/wiki/India\n",
      "Related URLs crawled:\n",
      "1 https://en.wikipedia.org/wiki/India/wiki/Wikipedia:Featured_articles\n",
      "2 https://en.wikipedia.org/wiki/India#mw-head\n",
      "3 https://en.wikipedia.org/wiki/India#searchInput\n",
      "4 https://en.wikipedia.org/wiki/India/wiki/Wikipedia:Protection_policy#extended\n",
      "5 https://en.wikipedia.org/wiki/India\n",
      "6 https://en.wikipedia.org/wiki/India/wiki/India_(disambiguation)\n"
     ]
    },
    {
     "name": "stderr",
     "output_type": "stream",
     "text": [
      " 16%|████████████████                                                                                    | 4/25 [00:16<01:25,  4.07s/it]"
     ]
    },
    {
     "name": "stdout",
     "output_type": "stream",
     "text": [
      "\n",
      "Root URL:  https://en.wikipedia.org/wiki/Politics_of_India\n",
      "Related URLs crawled:\n",
      "1 https://en.wikipedia.org/wiki/Politics_of_India/wiki/Wikipedia:Citing_sources\n",
      "2 https://en.wikipedia.org/wiki/Politics_of_India\n",
      "3 https://en.wikipedia.org/wiki/Politics_of_India/wiki/Wikipedia:Citing_sources#Inline_citations\n",
      "4 https://en.wikipedia.org/wiki/Politics_of_India#searchInput\n",
      "5 https://en.wikipedia.org/wiki/Politics_of_India/wiki/Wikipedia:WikiProject_Fact_and_Reference_Check\n",
      "6 https://en.wikipedia.org/wiki/Politics_of_India#mw-head\n"
     ]
    },
    {
     "name": "stderr",
     "output_type": "stream",
     "text": [
      " 20%|████████████████████                                                                                | 5/25 [00:19<01:14,  3.74s/it]"
     ]
    },
    {
     "name": "stdout",
     "output_type": "stream",
     "text": [
      "\n",
      "Root URL:  https://en.wikipedia.org/wiki/Outline_of_India\n",
      "Related URLs crawled:\n",
      "1 https://en.wikipedia.org/wiki/Outline_of_India#searchInput\n",
      "2 https://en.wikipedia.org/wiki/Outline_of_India/wiki/File:Flag_of_India.svg\n",
      "3 https://en.wikipedia.org/wiki/Outline_of_India/wiki/Flag_of_India\n",
      "4 https://en.wikipedia.org/wiki/Outline_of_India/wiki/File:Emblem_of_India.svg\n",
      "5 https://en.wikipedia.org/wiki/Outline_of_India#mw-head\n",
      "6 https://en.wikipedia.org/wiki/Outline_of_India\n"
     ]
    },
    {
     "name": "stderr",
     "output_type": "stream",
     "text": [
      " 24%|████████████████████████                                                                            | 6/25 [00:22<01:10,  3.74s/it]"
     ]
    },
    {
     "name": "stdout",
     "output_type": "stream",
     "text": [
      "\n",
      "Root URL:  https://en.wikipedia.org/wiki/Names_for_India\n",
      "Related URLs crawled:\n",
      "1 https://en.wikipedia.org/wiki/Names_for_India/wiki/Names_of_India_in_its_official_languages\n",
      "2 https://en.wikipedia.org/wiki/Names_for_India/wiki/Bharata_(disambiguation)\n",
      "3 https://en.wikipedia.org/wiki/Names_for_India#searchInput\n",
      "4 https://en.wikipedia.org/wiki/Names_for_India/wiki/India\n",
      "5 https://en.wikipedia.org/wiki/Names_for_India#mw-head\n",
      "6 https://en.wikipedia.org/wiki/Names_for_India\n"
     ]
    },
    {
     "name": "stderr",
     "output_type": "stream",
     "text": [
      " 28%|████████████████████████████                                                                        | 7/25 [00:25<01:02,  3.48s/it]"
     ]
    },
    {
     "name": "stdout",
     "output_type": "stream",
     "text": [
      "\n",
      "Root URL:  https://en.wikipedia.org/wiki/South_India\n",
      "Related URLs crawled:\n",
      "1 https://en.wikipedia.org/wiki/South_India\n",
      "2 https://en.wikipedia.org/wiki/South_India#mw-head\n",
      "3 https://en.wikipedia.org/wiki/South_India/wiki/India\n",
      "4 https://en.wikipedia.org/wiki/South_India#searchInput\n",
      "5 https://en.wikipedia.org/wiki/South_India/wiki/File:India_South_India_Locator_Map.svg\n",
      "6 https://en.wikipedia.org/wiki/South_India/wiki/Wikipedia:Good_articles\n"
     ]
    },
    {
     "name": "stderr",
     "output_type": "stream",
     "text": [
      " 32%|████████████████████████████████                                                                    | 8/25 [00:29<01:03,  3.71s/it]"
     ]
    },
    {
     "name": "stdout",
     "output_type": "stream",
     "text": [
      "\n",
      "Root URL:  https://www.india.gov.in/\n",
      "Related URLs crawled:\n",
      "1 https://twitter.com/indiagovin\n",
      "2 https://www.india.gov.in/\n",
      "3 https://www.facebook.com/NationalPortalIndia\n",
      "4 https://www.india.gov.in/user/register\n",
      "5 https://www.india.gov.in/#main-content\n",
      "6 https://www.india.gov.in/user/login\n"
     ]
    },
    {
     "name": "stderr",
     "output_type": "stream",
     "text": [
      " 36%|████████████████████████████████████                                                                | 9/25 [00:42<01:43,  6.48s/it]"
     ]
    },
    {
     "name": "stdout",
     "output_type": "stream",
     "text": [
      "\n",
      "Root URL:  https://www.incredibleindia.org/\n"
     ]
    },
    {
     "name": "stderr",
     "output_type": "stream",
     "text": [
      " 40%|███████████████████████████████████████▌                                                           | 10/25 [00:45<01:17,  5.17s/it]"
     ]
    },
    {
     "name": "stdout",
     "output_type": "stream",
     "text": [
      "Related URLs crawled:\n",
      "1 https://www.incredibleindia.org/\n",
      "\n",
      "Root URL:  https://www.britannica.com/place/India\n",
      "Related URLs crawled:\n",
      "1 https://www.britannica.com/place/India/\n",
      "2 https://www.britannica.com/place/India/on-this-day\n",
      "3 https://www.britannica.com/place/India/games\n",
      "4 https://premium.britannica.com/premium-membership/?utm_source=house&utm_medium=mendel&utm_campaign=premium-pres-day\n",
      "5 https://www.britannica.com/place/India\n",
      "6 https://www.britannica.com/place/India/quiz/browse\n"
     ]
    },
    {
     "name": "stderr",
     "output_type": "stream",
     "text": [
      " 44%|███████████████████████████████████████████▌                                                       | 11/25 [00:48<01:07,  4.79s/it]"
     ]
    },
    {
     "name": "stdout",
     "output_type": "stream",
     "text": [
      "\n",
      "Root URL:  https://www.india.com/\n",
      "Related URLs crawled:\n",
      "1 https://www.india.com/entertainment/\n",
      "2 https://www.india.com\n",
      "3 https://www.india.com/\n",
      "4 https://www.india.com/hindi-news/\n"
     ]
    },
    {
     "name": "stderr",
     "output_type": "stream",
     "text": [
      " 48%|███████████████████████████████████████████████▌                                                   | 12/25 [00:51<00:52,  4.02s/it]"
     ]
    },
    {
     "name": "stdout",
     "output_type": "stream",
     "text": [
      "5 https://www.india.com/news/india/\n",
      "\n",
      "Root URL:  https://timesofindia.indiatimes.com/\n",
      "Related URLs crawled:\n",
      "1 https://timesofindia.indiatimes.com/us\n",
      "2 https://timesofindia.indiatimes.com/briefs\n",
      "3 https://timesofindia.indiatimes.com/\n"
     ]
    },
    {
     "name": "stderr",
     "output_type": "stream",
     "text": [
      " 52%|███████████████████████████████████████████████████▍                                               | 13/25 [00:52<00:37,  3.13s/it]"
     ]
    },
    {
     "name": "stdout",
     "output_type": "stream",
     "text": [
      "\n",
      "Root URL:  https://mohfw.gov.in/\n",
      "Related URLs crawled:\n",
      "1 https://mohfw.gov.in/#\n",
      "2 https://mohfw.gov.in/#latest-update\n",
      "3 https://mohfw.gov.in/\n",
      "4 https://mohfw.gov.in/index.html\n",
      "5 https://mohfw.gov.in/#site-advisories\n"
     ]
    },
    {
     "name": "stderr",
     "output_type": "stream",
     "text": [
      " 56%|███████████████████████████████████████████████████████▍                                           | 14/25 [00:53<00:29,  2.72s/it]"
     ]
    },
    {
     "name": "stdout",
     "output_type": "stream",
     "text": [
      "\n",
      "Root URL:  https://www.theguardian.com/world/india\n",
      "Related URLs crawled:\n",
      "1 https://support.theguardian.com/contribute?INTCMP=header_support_contribute&acquisitionData=%7B%22source%22:%22GUARDIAN_WEB%22,%22componentType%22:%22ACQUISITIONS_HEADER%22,%22componentId%22:%22header_support_contribute%22%7D\n",
      "2 https://www.theguardian.com/world/india\n",
      "3 https://www.theguardian.com/international\n",
      "4 https://support.theguardian.com/subscribe?INTCMP=header_support_subscribe&acquisitionData=%7B%22source%22:%22GUARDIAN_WEB%22,%22componentType%22:%22ACQUISITIONS_HEADER%22,%22componentId%22:%22header_support_subscribe%22%7D\n"
     ]
    },
    {
     "name": "stderr",
     "output_type": "stream",
     "text": [
      " 60%|███████████████████████████████████████████████████████████▍                                       | 15/25 [00:58<00:32,  3.23s/it]"
     ]
    },
    {
     "name": "stdout",
     "output_type": "stream",
     "text": [
      "5 https://www.theguardian.com/world/india#maincontent\n",
      "\n",
      "Root URL:  http://www.airindia.in/\n"
     ]
    },
    {
     "name": "stderr",
     "output_type": "stream",
     "text": [
      " 64%|███████████████████████████████████████████████████████████████▎                                   | 16/25 [01:00<00:27,  3.03s/it]"
     ]
    },
    {
     "name": "stdout",
     "output_type": "stream",
     "text": [
      "<class 'requests.exceptions.ReadTimeout'>\n",
      "http://www.airindia.in/\n",
      "\n",
      "Root URL:  https://wikitravel.org/en/India\n"
     ]
    },
    {
     "name": "stderr",
     "output_type": "stream",
     "text": [
      " 68%|███████████████████████████████████████████████████████████████████▎                               | 17/25 [01:03<00:23,  2.92s/it]"
     ]
    },
    {
     "name": "stdout",
     "output_type": "stream",
     "text": [
      "<class 'requests.exceptions.ReadTimeout'>\n",
      "https://wikitravel.org/en/India\n",
      "\n",
      "Root URL:  https://www.bbc.com/news/world/asia/india\n",
      "Related URLs crawled:\n",
      "1 https://account.bbc.com/account\n",
      "2 https://www.bbc.co.uk/accessibility/\n",
      "3 https://www.bbc.com/news/world/asia/india#skip-to-content\n",
      "4 https://www.bbc.co.uk\n",
      "5 https://www.bbc.com/news/world/asia/india\n",
      "6 https://www.bbc.com/news/world/asia/india#\n"
     ]
    },
    {
     "name": "stderr",
     "output_type": "stream",
     "text": [
      " 72%|███████████████████████████████████████████████████████████████████████▎                           | 18/25 [01:10<00:28,  4.01s/it]"
     ]
    },
    {
     "name": "stdout",
     "output_type": "stream",
     "text": [
      "\n",
      "Root URL:  https://www.usnews.com/news/best-countries/india\n"
     ]
    },
    {
     "name": "stderr",
     "output_type": "stream",
     "text": [
      " 76%|███████████████████████████████████████████████████████████████████████████▏                       | 19/25 [01:12<00:21,  3.58s/it]"
     ]
    },
    {
     "name": "stdout",
     "output_type": "stream",
     "text": [
      "<class 'requests.exceptions.ReadTimeout'>\n",
      "https://www.usnews.com/news/best-countries/india\n",
      "\n",
      "Root URL:  https://tourism.gov.in/\n",
      "Related URLs crawled:\n",
      "1 https://tourism.gov.in/#skipCont\n",
      "2 https://india.gov.in/hi\n",
      "<class 'requests.exceptions.SSLError'>\n",
      "https://india.gov.in/hi\n",
      "3 https://tourism.gov.in/#\n",
      "4 https://india.gov.in/\n",
      "<class 'requests.exceptions.SSLError'>\n",
      "https://india.gov.in/\n",
      "5 https://tourism.gov.in/\n"
     ]
    },
    {
     "name": "stderr",
     "output_type": "stream",
     "text": [
      " 80%|███████████████████████████████████████████████████████████████████████████████▏                   | 20/25 [01:14<00:14,  2.89s/it]"
     ]
    },
    {
     "name": "stdout",
     "output_type": "stream",
     "text": [
      "\n",
      "Root URL:  https://www.aljazeera.com/where/india/\n",
      "Related URLs crawled:\n",
      "1 https://www.aljazeera.com/where/india//middle-east/\n",
      "2 https://www.aljazeera.com/where/india//news/\n",
      "3 https://www.aljazeera.com/where/india//asia/\n",
      "4 https://www.aljazeera.com/where/india//africa/\n",
      "5 https://www.aljazeera.com/where/india//live\n"
     ]
    },
    {
     "name": "stderr",
     "output_type": "stream",
     "text": [
      " 84%|███████████████████████████████████████████████████████████████████████████████████▏               | 21/25 [01:20<00:15,  3.93s/it]"
     ]
    },
    {
     "name": "stdout",
     "output_type": "stream",
     "text": [
      "6 https://www.aljazeera.com/where/india/\n",
      "\n",
      "Root URL:  https://sbi.co.in/\n",
      "Related URLs crawled:\n",
      "1 https://sbi.co.in/\n",
      "2 https://sbi.co.in/javascript:history.back();\n"
     ]
    },
    {
     "name": "stderr",
     "output_type": "stream",
     "text": [
      " 88%|███████████████████████████████████████████████████████████████████████████████████████            | 22/25 [01:21<00:08,  2.94s/it]"
     ]
    },
    {
     "name": "stdout",
     "output_type": "stream",
     "text": [
      "\n",
      "Root URL:  https://www.lonelyplanet.com/india\n",
      "Related URLs crawled:\n",
      "1 https://www.lonelyplanet.com/india/\n",
      "2 https://www.lonelyplanet.com/india/places\n",
      "3 https://www.lonelyplanet.com/india/search\n",
      "4 https://www.lonelyplanet.com/india#footer\n",
      "5 https://www.lonelyplanet.com/search\n",
      "6 https://www.lonelyplanet.com/india\n"
     ]
    },
    {
     "name": "stderr",
     "output_type": "stream",
     "text": [
      " 92%|███████████████████████████████████████████████████████████████████████████████████████████        | 23/25 [01:24<00:06,  3.01s/it]"
     ]
    },
    {
     "name": "stdout",
     "output_type": "stream",
     "text": [
      "\n",
      "Root URL:  https://www.rbi.org.in/\n",
      "Related URLs crawled:\n",
      "1 https://www.rbi.org.in/\n",
      "2 https://www.rbi.org.in/javascript:__doPostBack('UsrFontCntr$LinkBtnFontIncrease','')\n",
      "3 https://www.rbi.org.in/javascript:__doPostBack('UsrFontCntr$LinkBtnAccessibilty','')\n",
      "4 https://www.rbi.org.in/#mainsection\n",
      "5 https://www.rbi.org.in/hindi/Home.aspx\n",
      "6 https://www.rbi.org.in/javascript:__doPostBack('UsrFontCntr$LinkBtnFontDecrease','')\n"
     ]
    },
    {
     "name": "stderr",
     "output_type": "stream",
     "text": [
      " 96%|███████████████████████████████████████████████████████████████████████████████████████████████    | 24/25 [01:34<00:05,  5.24s/it]"
     ]
    },
    {
     "name": "stdout",
     "output_type": "stream",
     "text": [
      "\n",
      "Root URL:  https://www.digitalindia.gov.in/\n",
      "Related URLs crawled:\n",
      "1 https://www.facebook.com/OfficialDigitalIndia\n",
      "2 https://in.linkedin.com/company/digital-india\n",
      "3 https://www.youtube.com/user/MyNeGP\n",
      "4 https://twitter.com/_DigitalIndia\n",
      "5 https://www.instagram.com/officialdigitalindia/\n",
      "6 https://www.digitalindia.gov.in/\n"
     ]
    },
    {
     "name": "stderr",
     "output_type": "stream",
     "text": [
      "100%|███████████████████████████████████████████████████████████████████████████████████████████████████| 25/25 [01:39<00:00,  4.00s/it]\n"
     ]
    }
   ],
   "source": [
    "converted_pages = []\n",
    "converted_page_count = 0\n",
    "\n",
    "for url in tqdm(urls):\n",
    "    \n",
    "    print('\\nRoot URL: ', url)\n",
    "    \n",
    "    linked_urls = []\n",
    "    \n",
    "    try:\n",
    "    \n",
    "        res = requests.get(url, timeout=2.5)\n",
    "        responseSoup = bs4.BeautifulSoup(res.text,\"lxml\")\n",
    "        count_a = len(responseSoup.find_all('a', href=True))\n",
    "        limit = min(5, count_a)  \n",
    "        \n",
    "        if limit > 0:\n",
    "        \n",
    "            for a in responseSoup.find_all('a', href=True):\n",
    "\n",
    "                if (a['href'].find('www.') == -1) and (a['href'].find('https://') ==-1):\n",
    "\n",
    "                    embedded_url = f\"{url}{a['href']}\"\n",
    "                    linked_urls.append(embedded_url)\n",
    "\n",
    "                else:\n",
    "                    linked_urls.append(a['href'])\n",
    "\n",
    "                if len(linked_urls) == limit:\n",
    "                    break\n",
    "    \n",
    "        linked_urls.append(url)\n",
    "        \n",
    "        linked_urls = list(set(linked_urls))\n",
    "        \n",
    "        print('Related URLs crawled:')\n",
    "\n",
    "        for idx, linked_url in enumerate(linked_urls):\n",
    "            \n",
    "            print(idx + 1, linked_url)\n",
    "\n",
    "            try:\n",
    "                r = requests.get(linked_url)\n",
    "                html = r.text\n",
    "                text = html2text.html2text(html)\n",
    "                text = re.sub(r'[^a-zA-Z. ]', ' ', text)\n",
    "                text = re.sub(r'\\b\\w{1,3}\\b', '', text)\n",
    "                text = re.sub('\\s+',' ', text)\n",
    "\n",
    "                #Create a file and save the text\n",
    "\n",
    "                with open(f\"Converted_Pages/Page_{converted_page_count}.txt\",'w', encoding = 'utf-8') as f:\n",
    "                    f.write(text) \n",
    "                    \n",
    "                converted_page_count += 1\n",
    "\n",
    "            except Exception as ex:\n",
    "                print(type(ex))\n",
    "                print(linked_url)\n",
    "        \n",
    "    except Exception as ex:\n",
    "        print(type(ex))\n",
    "        print(url)"
   ]
  },
  {
   "cell_type": "markdown",
   "metadata": {},
   "source": [
    "**Identify the entity pairs and corresponding relations**"
   ]
  },
  {
   "cell_type": "code",
   "execution_count": 10,
   "metadata": {},
   "outputs": [],
   "source": [
    "string = []    \n",
    "for p in path.iterdir():\n",
    "    if str(p).find(\".ipynb_checkpoints\") == -1:\n",
    "        \n",
    "        with open(p, \"r\", encoding=\"utf8\") as f:\n",
    "            full_text = f.read()\n",
    "            \n",
    "            for l in re.split(r\"\\.\", full_text):\n",
    "                if l != \".\":\n",
    "                    string.append(l)\n",
    "                    \n",
    "sentences = pd.DataFrame(string)"
   ]
  },
  {
   "cell_type": "code",
   "execution_count": 11,
   "metadata": {},
   "outputs": [],
   "source": [
    "def get_entities(sentence):\n",
    "    doc = nlp(sentence)\n",
    "    entities = []\n",
    "    for ent in doc.ents:\n",
    "        entities.append(ent.text)\n",
    "    entities = list(dict.fromkeys(entities) )\n",
    "    if len(entities) != 2:\n",
    "        return None\n",
    "    return [entities[0], entities[1]]"
   ]
  },
  {
   "cell_type": "code",
   "execution_count": 12,
   "metadata": {},
   "outputs": [],
   "source": [
    "def get_relation(sentence):\n",
    "\n",
    "    doc = nlp(sentence)\n",
    "\n",
    "    # Matcher class object \n",
    "    matcher = Matcher(nlp.vocab)\n",
    "\n",
    "    #define the pattern \n",
    "    pattern = [{'DEP':'ROOT'},\n",
    "               {'DEP':'prep','OP':\"?\"},\n",
    "               {'DEP':'agent','OP':\"?\"},  \n",
    "               {'POS':'ADJ','OP':\"?\"}] \n",
    "\n",
    "    matcher.add(\"matching_1\", [pattern]) \n",
    "  \n",
    "    matches = matcher(doc)\n",
    "    k = len(matches) - 1\n",
    "\n",
    "    span = doc[matches[k][1]:matches[k][2]] \n",
    "\n",
    "    return(span.text)"
   ]
  },
  {
   "cell_type": "code",
   "execution_count": 13,
   "metadata": {},
   "outputs": [
    {
     "name": "stderr",
     "output_type": "stream",
     "text": [
      "100%|████████████████████████████████████████████████████████████████████████████████████████████| 98836/98836 [10:25<00:00, 157.98it/s]\n"
     ]
    }
   ],
   "source": [
    "entity_pairs = []\n",
    "relations = []\n",
    "\n",
    "for sentence in tqdm(sentences[0]):\n",
    "    entity_pair = get_entities(sentence)\n",
    "    if entity_pair:\n",
    "        entity_pair.append(get_relation(sentence))\n",
    "        entity_pairs.append(entity_pair)"
   ]
  },
  {
   "cell_type": "code",
   "execution_count": 14,
   "metadata": {},
   "outputs": [],
   "source": [
    "entity_pairs = list(entity_pairs for entity_pairs, _ in itertools.groupby(entity_pairs))"
   ]
  },
  {
   "cell_type": "code",
   "execution_count": 15,
   "metadata": {},
   "outputs": [],
   "source": [
    "# extract subject\n",
    "source = [i[0] for i in entity_pairs]"
   ]
  },
  {
   "cell_type": "code",
   "execution_count": 16,
   "metadata": {},
   "outputs": [],
   "source": [
    "# extract object\n",
    "target = [i[1] for i in entity_pairs]"
   ]
  },
  {
   "cell_type": "code",
   "execution_count": 17,
   "metadata": {},
   "outputs": [],
   "source": [
    "# extract relations\n",
    "relations = [i[2] for i in entity_pairs]"
   ]
  },
  {
   "cell_type": "code",
   "execution_count": 18,
   "metadata": {},
   "outputs": [],
   "source": [
    "kg_df = pd.DataFrame({'source':source, 'target':target, 'edge':relations})"
   ]
  },
  {
   "cell_type": "code",
   "execution_count": 19,
   "metadata": {},
   "outputs": [
    {
     "data": {
      "text/html": [
       "<div>\n",
       "<style scoped>\n",
       "    .dataframe tbody tr th:only-of-type {\n",
       "        vertical-align: middle;\n",
       "    }\n",
       "\n",
       "    .dataframe tbody tr th {\n",
       "        vertical-align: top;\n",
       "    }\n",
       "\n",
       "    .dataframe thead th {\n",
       "        text-align: right;\n",
       "    }\n",
       "</style>\n",
       "<table border=\"1\" class=\"dataframe\">\n",
       "  <thead>\n",
       "    <tr style=\"text-align: right;\">\n",
       "      <th></th>\n",
       "      <th>source</th>\n",
       "      <th>target</th>\n",
       "      <th>edge</th>\n",
       "    </tr>\n",
       "  </thead>\n",
       "  <tbody>\n",
       "    <tr>\n",
       "      <th>165</th>\n",
       "      <td>Coronavirus India News Live Updates</td>\n",
       "      <td>India</td>\n",
       "      <td>reports</td>\n",
       "    </tr>\n",
       "    <tr>\n",
       "      <th>6017</th>\n",
       "      <td>india</td>\n",
       "      <td>Punjab</td>\n",
       "      <td>timesofindia</td>\n",
       "    </tr>\n",
       "    <tr>\n",
       "      <th>2685</th>\n",
       "      <td>India</td>\n",
       "      <td>Page</td>\n",
       "      <td>index</td>\n",
       "    </tr>\n",
       "    <tr>\n",
       "      <th>1251</th>\n",
       "      <td>India</td>\n",
       "      <td>NCRB</td>\n",
       "      <td>deaths</td>\n",
       "    </tr>\n",
       "    <tr>\n",
       "      <th>3503</th>\n",
       "      <td>Karnataka</td>\n",
       "      <td>Jharkhand</td>\n",
       "      <td>Jharkhand</td>\n",
       "    </tr>\n",
       "    <tr>\n",
       "      <th>2568</th>\n",
       "      <td>Talbot India Before</td>\n",
       "      <td>Europe</td>\n",
       "      <td>India Before</td>\n",
       "    </tr>\n",
       "    <tr>\n",
       "      <th>5819</th>\n",
       "      <td>AIIMS</td>\n",
       "      <td>Delhi</td>\n",
       "      <td>series</td>\n",
       "    </tr>\n",
       "    <tr>\n",
       "      <th>3841</th>\n",
       "      <td>Names India</td>\n",
       "      <td>India</td>\n",
       "      <td>languages</td>\n",
       "    </tr>\n",
       "    <tr>\n",
       "      <th>3105</th>\n",
       "      <td>Demographics Sikkim</td>\n",
       "      <td>Demographics Sikkim Demographics Sikkim</td>\n",
       "      <td>Sikkim</td>\n",
       "    </tr>\n",
       "    <tr>\n",
       "      <th>359</th>\n",
       "      <td>Coronavirus India News Highlights</td>\n",
       "      <td>Uttarakhand</td>\n",
       "      <td>decides</td>\n",
       "    </tr>\n",
       "    <tr>\n",
       "      <th>1252</th>\n",
       "      <td>July</td>\n",
       "      <td>December</td>\n",
       "      <td>retrieved</td>\n",
       "    </tr>\n",
       "    <tr>\n",
       "      <th>4730</th>\n",
       "      <td>India</td>\n",
       "      <td>Maurice Merlin Mahatma Gandhi Buddha</td>\n",
       "      <td>Buddha</td>\n",
       "    </tr>\n",
       "    <tr>\n",
       "      <th>2290</th>\n",
       "      <td>Indian</td>\n",
       "      <td>India</td>\n",
       "      <td>grown</td>\n",
       "    </tr>\n",
       "    <tr>\n",
       "      <th>5205</th>\n",
       "      <td>Ruth Gilligan</td>\n",
       "      <td>Ondaatje Prize</td>\n",
       "      <td>wins</td>\n",
       "    </tr>\n",
       "    <tr>\n",
       "      <th>514</th>\n",
       "      <td>Coronavirus India News Live Updates</td>\n",
       "      <td>India</td>\n",
       "      <td>send</td>\n",
       "    </tr>\n",
       "    <tr>\n",
       "      <th>4513</th>\n",
       "      <td>CreateAccount</td>\n",
       "      <td>South India</td>\n",
       "      <td>index</td>\n",
       "    </tr>\n",
       "    <tr>\n",
       "      <th>4924</th>\n",
       "      <td>Instagram</td>\n",
       "      <td>lGODdhAQABAPAAAP</td>\n",
       "      <td>download</td>\n",
       "    </tr>\n",
       "    <tr>\n",
       "      <th>5595</th>\n",
       "      <td>India</td>\n",
       "      <td>Videos</td>\n",
       "      <td>warns variant</td>\n",
       "    </tr>\n",
       "    <tr>\n",
       "      <th>2380</th>\n",
       "      <td>ISBN</td>\n",
       "      <td>Special BookSources Special BookSources</td>\n",
       "      <td>wiki</td>\n",
       "    </tr>\n",
       "    <tr>\n",
       "      <th>4876</th>\n",
       "      <td>Instagram</td>\n",
       "      <td>lGODdhAQABAPAAAP</td>\n",
       "      <td>download</td>\n",
       "    </tr>\n",
       "  </tbody>\n",
       "</table>\n",
       "</div>"
      ],
      "text/plain": [
       "                                   source  \\\n",
       "165   Coronavirus India News Live Updates   \n",
       "6017                                india   \n",
       "2685                                India   \n",
       "1251                                India   \n",
       "3503                            Karnataka   \n",
       "2568                  Talbot India Before   \n",
       "5819                                AIIMS   \n",
       "3841                          Names India   \n",
       "3105                  Demographics Sikkim   \n",
       "359     Coronavirus India News Highlights   \n",
       "1252                                 July   \n",
       "4730                                India   \n",
       "2290                               Indian   \n",
       "5205                        Ruth Gilligan   \n",
       "514   Coronavirus India News Live Updates   \n",
       "4513                        CreateAccount   \n",
       "4924                            Instagram   \n",
       "5595                                India   \n",
       "2380                                 ISBN   \n",
       "4876                            Instagram   \n",
       "\n",
       "                                       target           edge  \n",
       "165                                     India        reports  \n",
       "6017                                   Punjab   timesofindia  \n",
       "2685                                     Page          index  \n",
       "1251                                     NCRB         deaths  \n",
       "3503                                Jharkhand      Jharkhand  \n",
       "2568                                   Europe   India Before  \n",
       "5819                                    Delhi         series  \n",
       "3841                                    India      languages  \n",
       "3105  Demographics Sikkim Demographics Sikkim         Sikkim  \n",
       "359                               Uttarakhand        decides  \n",
       "1252                                 December      retrieved  \n",
       "4730     Maurice Merlin Mahatma Gandhi Buddha         Buddha  \n",
       "2290                                    India          grown  \n",
       "5205                           Ondaatje Prize           wins  \n",
       "514                                     India           send  \n",
       "4513                              South India          index  \n",
       "4924                         lGODdhAQABAPAAAP       download  \n",
       "5595                                   Videos  warns variant  \n",
       "2380  Special BookSources Special BookSources           wiki  \n",
       "4876                         lGODdhAQABAPAAAP       download  "
      ]
     },
     "execution_count": 19,
     "metadata": {},
     "output_type": "execute_result"
    }
   ],
   "source": [
    "kg_df.sample(20)"
   ]
  },
  {
   "cell_type": "markdown",
   "metadata": {},
   "source": [
    "**Create the Knowledge Graph in Neo4j**"
   ]
  },
  {
   "cell_type": "code",
   "execution_count": 20,
   "metadata": {},
   "outputs": [],
   "source": [
    "graph = Graph(\"bolt://localhost:7687\", user=\"neo4j\", password=\"password\")\n",
    "transaction = graph.begin()"
   ]
  },
  {
   "cell_type": "code",
   "execution_count": 21,
   "metadata": {},
   "outputs": [
    {
     "data": {
      "text/plain": [
       "<py2neo.database.work.TransactionSummary at 0x22fe6fe3c40>"
      ]
     },
     "execution_count": 21,
     "metadata": {},
     "output_type": "execute_result"
    }
   ],
   "source": [
    "for index, row in kg_df.iterrows():\n",
    "    \n",
    "    transaction.evaluate(f'''\n",
    "    MERGE (a:Subject {{name:$Subject}})\n",
    "    MERGE (b:Object {{name:$Object}})\n",
    "    MERGE (a)-[r:Relation {{name:$Relation}}]->(b)\n",
    "    ''', parameters = {'Subject': row['source'], \n",
    "                       'Object': row['target'], \n",
    "                       'Relation': row['edge']})\n",
    "transaction.commit()"
   ]
  },
  {
   "cell_type": "markdown",
   "metadata": {},
   "source": [
    "![Knowledge_Graph](graph.png)"
   ]
  },
  {
   "cell_type": "markdown",
   "metadata": {},
   "source": [
    "**Query the Knowledge Graph**"
   ]
  },
  {
   "cell_type": "code",
   "execution_count": 22,
   "metadata": {},
   "outputs": [
    {
     "data": {
      "text/plain": [
       "[{'COUNT(n)': 2460}]"
      ]
     },
     "execution_count": 22,
     "metadata": {},
     "output_type": "execute_result"
    }
   ],
   "source": [
    "# Number of Nodes\n",
    "graph.run(\"\"\"MATCH (n) RETURN COUNT(n)\"\"\").data()"
   ]
  },
  {
   "cell_type": "code",
   "execution_count": 29,
   "metadata": {},
   "outputs": [
    {
     "data": {
      "text/plain": [
       "[{'COUNT(*)': 2188}]"
      ]
     },
     "execution_count": 29,
     "metadata": {},
     "output_type": "execute_result"
    }
   ],
   "source": [
    "# Number of Relationships\n",
    "graph.run(\"\"\"MATCH ()-->() RETURN COUNT(*)\"\"\").data()"
   ]
  },
  {
   "cell_type": "code",
   "execution_count": 31,
   "metadata": {},
   "outputs": [
    {
     "data": {
      "text/plain": [
       "[{'label': 'Subject'}, {'label': 'Object'}]"
      ]
     },
     "execution_count": 31,
     "metadata": {},
     "output_type": "execute_result"
    }
   ],
   "source": [
    "# List node labels\n",
    "graph.run(\"\"\"CALL db.labels()\"\"\").data()"
   ]
  },
  {
   "cell_type": "code",
   "execution_count": 32,
   "metadata": {},
   "outputs": [
    {
     "data": {
      "text/plain": [
       "[{'relationshipType': 'Relation'}]"
      ]
     },
     "execution_count": 32,
     "metadata": {},
     "output_type": "execute_result"
    }
   ],
   "source": [
    "# List relationship types\n",
    "graph.run(\"\"\"CALL db.relationshipTypes()\"\"\").data()"
   ]
  },
  {
   "cell_type": "code",
   "execution_count": 34,
   "metadata": {},
   "outputs": [
    {
     "data": {
      "text/plain": [
       "[{'nodes': [Node('Object', constraints=[], indexes=[], name='Object'),\n",
       "   Node('Subject', constraints=[], indexes=[], name='Subject')],\n",
       "  'relationships': [Relation(Node(), Node())]}]"
      ]
     },
     "execution_count": 34,
     "metadata": {},
     "output_type": "execute_result"
    }
   ],
   "source": [
    "# What is related, and how\n",
    "graph.run(\"\"\"CALL db.schema.visualization()\"\"\").data()"
   ]
  },
  {
   "cell_type": "markdown",
   "metadata": {},
   "source": [
    "![Schema_Visualization](schema_visualization.png)"
   ]
  },
  {
   "cell_type": "code",
   "execution_count": 26,
   "metadata": {},
   "outputs": [
    {
     "data": {
      "text/plain": [
       "[{'n': Node('Subject', name='India'),\n",
       "  'r': Relation(Node('Subject', name='India'), Node('Object', name='English'), name='wiki'),\n",
       "  'm': Node('Object', name='English')},\n",
       " {'n': Node('Subject', name='COVID Vaccine General'),\n",
       "  'r': Relation(Node('Subject', name='COVID Vaccine General'), Node('Object', name='English'), name='https'),\n",
       "  'm': Node('Object', name='English')},\n",
       " {'n': Node('Subject', name='Indians'),\n",
       "  'r': Relation(Node('Subject', name='Indians'), Node('Object', name='English'), name='Indians'),\n",
       "  'm': Node('Object', name='English')},\n",
       " {'n': Node('Subject', name='COVID'),\n",
       "  'r': Relation(Node('Subject', name='COVID'), Node('Object', name='English'), name='distancing'),\n",
       "  'm': Node('Object', name='English')},\n",
       " {'n': Node('Subject', name='COVID'),\n",
       "  'r': Relation(Node('Subject', name='COVID'), Node('Object', name='English'), name='stigma'),\n",
       "  'm': Node('Object', name='English')},\n",
       " {'n': Node('Subject', name='century'),\n",
       "  'r': Relation(Node('Subject', name='century'), Node('Object', name='English'), name='referred'),\n",
       "  'm': Node('Object', name='English')},\n",
       " {'n': Node('Subject', name='Santali'),\n",
       "  'r': Relation(Node('Subject', name='Santali'), Node('Object', name='English'), name='simple'),\n",
       "  'm': Node('Object', name='English')},\n",
       " {'n': Node('Subject', name='AIIMS'),\n",
       "  'r': Relation(Node('Subject', name='AIIMS'), Node('Object', name='English'), name='https'),\n",
       "  'm': Node('Object', name='English')},\n",
       " {'n': Node('Subject', name='Stevenson Angus Waite Maurice'),\n",
       "  'r': Relation(Node('Subject', name='Stevenson Angus Waite Maurice'), Node('Object', name='English'), name='books'),\n",
       "  'm': Node('Object', name='English')},\n",
       " {'n': Node('Subject', name='South India South India'),\n",
       "  'r': Relation(Node('Subject', name='South India South India'), Node('Object', name='English'), name='wiki'),\n",
       "  'm': Node('Object', name='English')}]"
      ]
     },
     "execution_count": 26,
     "metadata": {},
     "output_type": "execute_result"
    }
   ],
   "source": [
    "graph.run(\"\"\"MATCH (n)-[r]->(m) RETURN n, r, m limit 10\"\"\").data()"
   ]
  },
  {
   "cell_type": "code",
   "execution_count": null,
   "metadata": {},
   "outputs": [],
   "source": []
  }
 ],
 "metadata": {
  "kernelspec": {
   "display_name": "Python 3",
   "language": "python",
   "name": "python3"
  },
  "language_info": {
   "codemirror_mode": {
    "name": "ipython",
    "version": 3
   },
   "file_extension": ".py",
   "mimetype": "text/x-python",
   "name": "python",
   "nbconvert_exporter": "python",
   "pygments_lexer": "ipython3",
   "version": "3.8.5"
  }
 },
 "nbformat": 4,
 "nbformat_minor": 4
}
